{
 "cells": [
  {
   "cell_type": "markdown",
   "metadata": {},
   "source": [
    "# Lab 1.1: Environment Setup\n",
    "\n",
    "## Duration: 45 minutes\n",
    "\n",
    "## Learning Objectives\n",
    "By the end of this lab, you will be able to:\n",
    "- Set up a Python development environment for deep learning\n",
    "- Install and verify required packages (NumPy, Matplotlib, Jupyter)\n",
    "- Test your environment with basic operations\n",
    "- Understand the tools we'll use throughout the course\n",
    "\n",
    "## Prerequisites\n",
    "- Python 3.8+ installed on your system\n",
    "- Basic familiarity with command line/terminal\n",
    "\n",
    "---"
   ]
  },
  {
   "cell_type": "markdown",
   "metadata": {},
   "source": [
    "## Step 1: Verify Python Installation\n",
    "\n",
    "First, let's verify that Python is properly installed on your system."
   ]
  },
  {
   "cell_type": "code",
   "execution_count": null,
   "metadata": {},
   "outputs": [],
   "source": [
    "import sys\n",
    "print(f\"Python version: {sys.version}\")\n",
    "print(f\"Python executable: {sys.executable}\")\n",
    "\n",
    "# Verify Python version is 3.8+\n",
    "if sys.version_info >= (3, 8):\n",
    "    print(\"✅ Python version is compatible\")\n",
    "else:\n",
    "    print(\"❌ Python version is too old. Please upgrade to Python 3.8+\")"
   ]
  },
  {
   "cell_type": "markdown",
   "metadata": {},
   "source": [
    "## Step 2: Install Required Packages\n",
    "\n",
    "We'll install the essential packages needed for our neural network implementations.\n",
    "\n",
    "### Windows Users:\n",
    "Open Command Prompt or PowerShell and run:\n",
    "```bash\n",
    "pip install numpy matplotlib jupyter pandas scikit-learn\n",
    "```\n",
    "\n",
    "### Mac Users:\n",
    "Open Terminal and run:\n",
    "```bash\n",
    "pip3 install numpy matplotlib jupyter pandas scikit-learn\n",
    "```\n",
    "\n",
    "### Alternative (if pip doesn't work):\n",
    "```bash\n",
    "python -m pip install numpy matplotlib jupyter pandas scikit-learn\n",
    "```"
   ]
  },
  {
   "cell_type": "markdown",
   "metadata": {},
   "source": [
    "## Step 3: Verify Package Installation\n",
    "\n",
    "Let's test that all required packages are properly installed and working."
   ]
  },
  {
   "cell_type": "code",
   "execution_count": null,
   "metadata": {},
   "outputs": [],
   "source": [
    "# Test NumPy installation\n",
    "try:\n",
    "    import numpy as np\n",
    "    print(f\"✅ NumPy {np.__version__} successfully imported\")\n",
    "    \n",
    "    # Test basic NumPy operations\n",
    "    test_array = np.array([1, 2, 3, 4, 5])\n",
    "    print(f\"   Test array: {test_array}\")\n",
    "    print(f\"   Array sum: {np.sum(test_array)}\")\n",
    "    \n",
    "except ImportError as e:\n",
    "    print(f\"❌ NumPy import failed: {e}\")"
   ]
  },
  {
   "cell_type": "code",
   "execution_count": null,
   "metadata": {},
   "outputs": [],
   "source": [
    "# Test Matplotlib installation\n",
    "try:\n",
    "    import matplotlib.pyplot as plt\n",
    "    import matplotlib\n",
    "    print(f\"✅ Matplotlib {matplotlib.__version__} successfully imported\")\n",
    "    \n",
    "    # Test basic plotting\n",
    "    plt.figure(figsize=(8, 4))\n",
    "    x = np.linspace(0, 2*np.pi, 100)\n",
    "    y = np.sin(x)\n",
    "    plt.plot(x, y, 'b-', linewidth=2)\n",
    "    plt.title('Environment Test: Sine Wave')\n",
    "    plt.xlabel('x')\n",
    "    plt.ylabel('sin(x)')\n",
    "    plt.grid(True, alpha=0.3)\n",
    "    plt.show()\n",
    "    print(\"   ✅ Basic plotting successful\")\n",
    "    \n",
    "except ImportError as e:\n",
    "    print(f\"❌ Matplotlib import failed: {e}\")"
   ]
  },
  {
   "cell_type": "code",
   "execution_count": null,
   "metadata": {},
   "outputs": [],
   "source": [
    "# Test additional packages\n",
    "packages_to_test = {\n",
    "    'pandas': 'pd',\n",
    "    'sklearn': 'sklearn'\n",
    "}\n",
    "\n",
    "for package_name, alias in packages_to_test.items():\n",
    "    try:\n",
    "        if package_name == 'pandas':\n",
    "            import pandas as pd\n",
    "            print(f\"✅ Pandas {pd.__version__} successfully imported\")\n",
    "        elif package_name == 'sklearn':\n",
    "            import sklearn\n",
    "            print(f\"✅ Scikit-learn {sklearn.__version__} successfully imported\")\n",
    "    except ImportError as e:\n",
    "        print(f\"❌ {package_name} import failed: {e}\")"
   ]
  },
  {
   "cell_type": "markdown",
   "metadata": {},
   "source": [
    "## Step 4: Test Mathematical Operations\n",
    "\n",
    "Let's test some mathematical operations that we'll use extensively in neural networks."
   ]
  },
  {
   "cell_type": "code",
   "execution_count": null,
   "metadata": {},
   "outputs": [],
   "source": [
    "# Test matrix operations\n",
    "print(\"Testing Matrix Operations:\")\n",
    "print(\"=\" * 30)\n",
    "\n",
    "# Create test matrices\n",
    "A = np.array([[1, 2], [3, 4]])\n",
    "B = np.array([[5, 6], [7, 8]])\n",
    "\n",
    "print(f\"Matrix A:\\n{A}\")\n",
    "print(f\"\\nMatrix B:\\n{B}\")\n",
    "\n",
    "# Matrix multiplication\n",
    "C = np.dot(A, B)\n",
    "print(f\"\\nMatrix multiplication A @ B:\\n{C}\")\n",
    "\n",
    "# Element-wise operations\n",
    "D = A * B  # Element-wise multiplication\n",
    "print(f\"\\nElement-wise multiplication A * B:\\n{D}\")\n",
    "\n",
    "# Transpose\n",
    "A_T = A.T\n",
    "print(f\"\\nTranspose of A:\\n{A_T}\")\n",
    "\n",
    "print(\"\\n✅ All matrix operations working correctly!\")"
   ]
  },
  {
   "cell_type": "code",
   "execution_count": null,
   "metadata": {},
   "outputs": [],
   "source": [
    "# Test mathematical functions we'll use in neural networks\n",
    "print(\"Testing Mathematical Functions:\")\n",
    "print(\"=\" * 35)\n",
    "\n",
    "# Test exponential and logarithm\n",
    "x = np.array([0, 1, 2, -1, -2])\n",
    "print(f\"Input array: {x}\")\n",
    "print(f\"Exponential: {np.exp(x)}\")\n",
    "print(f\"Natural log (positive values only): {np.log(np.abs(x) + 1e-8)}\")\n",
    "\n",
    "# Test sigmoid function (preview of what we'll implement)\n",
    "def sigmoid(z):\n",
    "    return 1 / (1 + np.exp(-z))\n",
    "\n",
    "sigmoid_result = sigmoid(x)\n",
    "print(f\"Sigmoid function: {sigmoid_result}\")\n",
    "\n",
    "print(\"\\n✅ Mathematical functions working correctly!\")"
   ]
  },
  {
   "cell_type": "markdown",
   "metadata": {},
   "source": [
    "## Step 5: Test Random Number Generation\n",
    "\n",
    "Random number generation is crucial for initializing neural network weights."
   ]
  },
  {
   "cell_type": "code",
   "execution_count": null,
   "metadata": {},
   "outputs": [],
   "source": [
    "# Set random seed for reproducibility\n",
    "np.random.seed(42)\n",
    "\n",
    "print(\"Testing Random Number Generation:\")\n",
    "print(\"=\" * 35)\n",
    "\n",
    "# Generate random numbers\n",
    "random_uniform = np.random.uniform(0, 1, 5)\n",
    "print(f\"Random uniform [0,1]: {random_uniform}\")\n",
    "\n",
    "random_normal = np.random.normal(0, 1, 5)\n",
    "print(f\"Random normal (0,1): {random_normal}\")\n",
    "\n",
    "# Generate random matrix (like neural network weights)\n",
    "weights = np.random.randn(3, 4) * 0.1  # Small random weights\n",
    "print(f\"\\nRandom weight matrix (3x4):\\n{weights}\")\n",
    "\n",
    "print(\"\\n✅ Random number generation working correctly!\")"
   ]
  },
  {
   "cell_type": "markdown",
   "metadata": {},
   "source": [
    "## Step 6: Environment Summary and System Info\n",
    "\n",
    "Let's gather some useful system information for troubleshooting."
   ]
  },
  {
   "cell_type": "code",
   "execution_count": null,
   "metadata": {},
   "outputs": [],
   "source": [
    "import platform\n",
    "import os\n",
    "\n",
    "print(\"System Information:\")\n",
    "print(\"=\" * 25)\n",
    "print(f\"Operating System: {platform.system()} {platform.release()}\")\n",
    "print(f\"Architecture: {platform.architecture()[0]}\")\n",
    "print(f\"Processor: {platform.processor()}\")\n",
    "print(f\"Python Version: {platform.python_version()}\")\n",
    "print(f\"Working Directory: {os.getcwd()}\")\n",
    "\n",
    "print(\"\\n\" + \"=\" * 50)\n",
    "print(\"ENVIRONMENT SETUP COMPLETE! 🎉\")\n",
    "print(\"=\" * 50)\n",
    "print(\"You're ready to proceed with the neural networks course!\")"
   ]
  },
  {
   "cell_type": "markdown",
   "metadata": {},
   "source": [
    "## Progress Checklist\n",
    "\n",
    "Mark each item as complete:\n",
    "\n",
    "- [ ] Python 3.8+ verified\n",
    "- [ ] NumPy installed and working\n",
    "- [ ] Matplotlib installed and working\n",
    "- [ ] Pandas installed and working\n",
    "- [ ] Scikit-learn installed and working\n",
    "- [ ] Basic plotting functionality tested\n",
    "- [ ] Matrix operations working\n",
    "- [ ] Mathematical functions working\n",
    "- [ ] Random number generation working\n",
    "- [ ] System information gathered\n",
    "\n",
    "## Troubleshooting\n",
    "\n",
    "### Common Issues:\n",
    "\n",
    "**1. Package installation fails:**\n",
    "- Try: `python -m pip install --upgrade pip` first\n",
    "- Try: `pip install --user [package_name]`\n",
    "- On Mac: Make sure you're using `pip3` instead of `pip`\n",
    "\n",
    "**2. Import errors:**\n",
    "- Restart your Jupyter kernel: Kernel → Restart\n",
    "- Check if packages are installed in the correct environment\n",
    "\n",
    "**3. Matplotlib plots don't appear:**\n",
    "- Try adding: `%matplotlib inline` at the top of your notebook\n",
    "- Restart Jupyter and try again\n",
    "\n",
    "**4. Permission errors (Windows):**\n",
    "- Run Command Prompt as Administrator\n",
    "- Or use `--user` flag: `pip install --user [package_name]`\n",
    "\n",
    "**5. Path issues:**\n",
    "- Make sure Python and pip are in your system PATH\n",
    "- Try using full path to python: `/usr/bin/python3 -m pip install [package]`\n",
    "\n",
    "### Getting Help:\n",
    "If you encounter issues:\n",
    "1. Copy the error message\n",
    "2. Note your operating system and Python version\n",
    "3. Ask your instructor for assistance\n",
    "\n",
    "## Key Concepts Summary\n",
    "\n",
    "- **NumPy**: Fundamental package for numerical computing in Python\n",
    "- **Matplotlib**: Primary plotting library for data visualization\n",
    "- **Jupyter**: Interactive computing environment\n",
    "- **Matrix operations**: Essential for neural network computations\n",
    "- **Random number generation**: Used for weight initialization\n",
    "\n",
    "## Next Steps\n",
    "\n",
    "In the next lab, we'll review the mathematical foundations needed for neural networks, including linear algebra concepts and calculus basics.\n",
    "\n",
    "---\n",
    "\n",
    "**Congratulations! You've successfully set up your development environment for neural networks and deep learning!**"
   ]
  }
 ],
 "metadata": {
  "kernelspec": {
   "display_name": "Python 3",
   "language": "python",
   "name": "python3"
  },
  "language_info": {
   "codemirror_mode": {
    "name": "ipython",
    "version": 3
   },
   "file_extension": ".py",
   "mimetype": "text/x-python",
   "name": "python",
   "nbconvert_exporter": "python",
   "pygments_lexer": "ipython3",
   "version": "3.8.0"
  }
 },
 "nbformat": 4,
 "nbformat_minor": 4
}