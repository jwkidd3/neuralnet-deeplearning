{
 "cells": [
  {
   "cell_type": "markdown",
   "metadata": {},
   "source": [
    "# Lab 4.3: Introduction to Convolutional Neural Networks\n",
    "\n",
    "## Duration: 45 minutes\n",
    "\n",
    "## Learning Objectives\n",
    "By the end of this lab, you will be able to:\n",
    "- Understand why CNNs are perfect for image data\n",
    "- Build your first CNN using TensorFlow/Keras\n",
    "- Compare CNN performance with regular Dense networks\n",
    "- Use Conv2D, MaxPooling, and Flatten layers\n",
    "- Apply CNNs to real image classification problems\n",
    "\n",
    "## Prerequisites\n",
    "- **Lab 4.1 & 4.2 completed** (TensorFlow basics and deep networks)\n",
    "- Understanding of neural networks\n",
    "- Basic knowledge of images as data\n",
    "\n",
    "## Key Concepts\n",
    "- **Convolution**: Feature detection using filters/kernels\n",
    "- **Pooling**: Dimensionality reduction and translation invariance\n",
    "- **Feature Maps**: How CNNs detect patterns at different scales\n",
    "- **Spatial Hierarchy**: Learning from simple edges to complex objects\n",
    "- **Parameter Sharing**: Why CNNs need fewer parameters than Dense layers"
   ]
  },
  {
   "cell_type": "markdown",
   "metadata": {},
   "source": [
    "## Setup and Introduction\n",
    "\n",
    "Let's start by understanding why we need CNNs for image data:"
   ]
  },
  {
   "cell_type": "code",
   "execution_count": 28,
   "metadata": {},
   "outputs": [
    {
     "name": "stdout",
     "output_type": "stream",
     "text": [
      "Lab 4.3: Introduction to Convolutional Neural Networks\n",
      "============================================================\n",
      "TensorFlow version: 2.20.0\n",
      "\n",
      "Loading MNIST dataset...\n",
      "Training data shape: (60000, 28, 28)\n",
      "Training labels shape: (60000,)\n",
      "Test data shape: (10000, 28, 28)\n",
      "Test labels shape: (10000,)\n",
      "Number of classes: 10\n",
      "\n",
      "📊 Sample MNIST Images:\n"
     ]
    },
    {
     "data": {
      "image/png": "[encoded data removed]",
      "text/plain": [
       "<Figure size 1200x500 with 10 Axes>"
      ]
     },
     "metadata": {},
     "output_type": "display_data"
    },
    {
     "name": "stdout",
     "output_type": "stream",
     "text": [
      "\n",
      "✅ Data loaded and ready for CNN experiments!\n"
     ]
    }
   ],
   "source": [
    "import numpy as np\n",
    "import matplotlib.pyplot as plt\n",
    "import tensorflow as tf\n",
    "from tensorflow import keras\n",
    "from tensorflow.keras import layers\n",
    "from tensorflow.keras.datasets import mnist\n",
    "import warnings\n",
    "warnings.filterwarnings('ignore')\n",
    "\n",
    "# Set random seeds for reproducibility\n",
    "np.random.seed(42)\n",
    "tf.random.set_seed(42)\n",
    "\n",
    "print(\"Lab 4.3: Introduction to Convolutional Neural Networks\")\n",
    "print(\"=\" * 60)\n",
    "print(f\"TensorFlow version: {tf.__version__}\")\n",
    "\n",
    "# Load the MNIST dataset\n",
    "print(\"\\nLoading MNIST dataset...\")\n",
    "(X_train, y_train), (X_test, y_test) = mnist.load_data()\n",
    "\n",
    "# Normalize pixel values to [0, 1]\n",
    "X_train = X_train.astype('float32') / 255.0\n",
    "X_test = X_test.astype('float32') / 255.0\n",
    "\n",
    "print(f\"Training data shape: {X_train.shape}\")\n",
    "print(f\"Training labels shape: {y_train.shape}\")\n",
    "print(f\"Test data shape: {X_test.shape}\")\n",
    "print(f\"Test labels shape: {y_test.shape}\")\n",
    "print(f\"Number of classes: {len(np.unique(y_train))}\")\n",
    "\n",
    "# Visualize some sample images\n",
    "print(\"\\n📊 Sample MNIST Images:\")\n",
    "fig, axes = plt.subplots(2, 5, figsize=(12, 5))\n",
    "for i, ax in enumerate(axes.flat):\n",
    "    ax.imshow(X_train[i], cmap='gray')\n",
    "    ax.set_title(f'Label: {y_train[i]}')\n",
    "    ax.axis('off')\n",
    "plt.tight_layout()\n",
    "plt.show()\n",
    "\n",
    "print(\"\\n✅ Data loaded and ready for CNN experiments!\")"
   ]
  },
  {
   "cell_type": "code",
   "execution_count": 29,
   "metadata": {},
   "outputs": [
    {
     "name": "stdout",
     "output_type": "stream",
     "text": [
      "The Dense Network Approach:\n",
      "========================================\n",
      "Original image shape: (28, 28)\n",
      "Flattened shape: (784,)\n",
      "Total pixels per image: 784\n",
      "\n",
      "Dense Model Summary:\n"
     ]
    },
    {
     "data": {
      "text/html": [
       "<pre style=\"white-space:pre;overflow-x:auto;line-height:normal;font-family:Menlo,'DejaVu Sans Mono',consolas,'Courier New',monospace\"><span style=\"font-weight: bold\">Model: \"Dense_Network\"</span>\n",
       "</pre>\n"
      ],
      "text/plain": [
       "\u001b[1mModel: \"Dense_Network\"\u001b[0m\n"
      ]
     },
     "metadata": {},
     "output_type": "display_data"
    },
    {
     "data": {
      "text/html": [
       "<pre style=\"white-space:pre;overflow-x:auto;line-height:normal;font-family:Menlo,'DejaVu Sans Mono',consolas,'Courier New',monospace\">┏━━━━━━━━━━━━━━━━━━━━━━━━━━━━━━━━━┳━━━━━━━━━━━━━━━━━━━━━━━━┳━━━━━━━━━━━━━━━┓\n",
       "┃<span style=\"font-weight: bold\"> Layer (type)                    </span>┃<span style=\"font-weight: bold\"> Output Shape           </span>┃<span style=\"font-weight: bold\">       Param # </span>┃\n",
       "┡━━━━━━━━━━━━━━━━━━━━━━━━━━━━━━━━━╇━━━━━━━━━━━━━━━━━━━━━━━━╇━━━━━━━━━━━━━━━┩\n",
       "│ dense_31 (<span style=\"color: #0087ff; text-decoration-color: #0087ff\">Dense</span>)                │ (<span style=\"color: #00d7ff; text-decoration-color: #00d7ff\">None</span>, <span style=\"color: #00af00; text-decoration-color: #00af00\">128</span>)            │       <span style=\"color: #00af00; text-decoration-color: #00af00\">100,480</span> │\n",
       "├─────────────────────────────────┼────────────────────────┼───────────────┤\n",
       "│ dense_32 (<span style=\"color: #0087ff; text-decoration-color: #0087ff\">Dense</span>)                │ (<span style=\"color: #00d7ff; text-decoration-color: #00d7ff\">None</span>, <span style=\"color: #00af00; text-decoration-color: #00af00\">64</span>)             │         <span style=\"color: #00af00; text-decoration-color: #00af00\">8,256</span> │\n",
       "├─────────────────────────────────┼────────────────────────┼───────────────┤\n",
       "│ dense_33 (<span style=\"color: #0087ff; text-decoration-color: #0087ff\">Dense</span>)                │ (<span style=\"color: #00d7ff; text-decoration-color: #00d7ff\">None</span>, <span style=\"color: #00af00; text-decoration-color: #00af00\">10</span>)             │           <span style=\"color: #00af00; text-decoration-color: #00af00\">650</span> │\n",
       "└─────────────────────────────────┴────────────────────────┴───────────────┘\n",
       "</pre>\n"
      ],
      "text/plain": [
       "┏━━━━━━━━━━━━━━━━━━━━━━━━━━━━━━━━━┳━━━━━━━━━━━━━━━━━━━━━━━━┳━━━━━━━━━━━━━━━┓\n",
       "┃\u001b[1m \u001b[0m\u001b[1mLayer (type)                   \u001b[0m\u001b[1m \u001b[0m┃\u001b[1m \u001b[0m\u001b[1mOutput Shape          \u001b[0m\u001b[1m \u001b[0m┃\u001b[1m \u001b[0m\u001b[1m      Param #\u001b[0m\u001b[1m \u001b[0m┃\n",
       "┡━━━━━━━━━━━━━━━━━━━━━━━━━━━━━━━━━╇━━━━━━━━━━━━━━━━━━━━━━━━╇━━━━━━━━━━━━━━━┩\n",
       "│ dense_31 (\u001b[38;5;33mDense\u001b[0m)                │ (\u001b[38;5;45mNone\u001b[0m, \u001b[38;5;34m128\u001b[0m)            │       \u001b[38;5;34m100,480\u001b[0m │\n",
       "├─────────────────────────────────┼────────────────────────┼───────────────┤\n",
       "│ dense_32 (\u001b[38;5;33mDense\u001b[0m)                │ (\u001b[38;5;45mNone\u001b[0m, \u001b[38;5;34m64\u001b[0m)             │         \u001b[38;5;34m8,256\u001b[0m │\n",
       "├─────────────────────────────────┼────────────────────────┼───────────────┤\n",
       "│ dense_33 (\u001b[38;5;33mDense\u001b[0m)                │ (\u001b[38;5;45mNone\u001b[0m, \u001b[38;5;34m10\u001b[0m)             │           \u001b[38;5;34m650\u001b[0m │\n",
       "└─────────────────────────────────┴────────────────────────┴───────────────┘\n"
      ]
     },
     "metadata": {},
     "output_type": "display_data"
    },
    {
     "data": {
      "text/html": [
       "<pre style=\"white-space:pre;overflow-x:auto;line-height:normal;font-family:Menlo,'DejaVu Sans Mono',consolas,'Courier New',monospace\"><span style=\"font-weight: bold\"> Total params: </span><span style=\"color: #00af00; text-decoration-color: #00af00\">109,386</span> (427.29 KB)\n",
       "</pre>\n"
      ],
      "text/plain": [
       "\u001b[1m Total params: \u001b[0m\u001b[38;5;34m109,386\u001b[0m (427.29 KB)\n"
      ]
     },
     "metadata": {},
     "output_type": "display_data"
    },
    {
     "data": {
      "text/html": [
       "<pre style=\"white-space:pre;overflow-x:auto;line-height:normal;font-family:Menlo,'DejaVu Sans Mono',consolas,'Courier New',monospace\"><span style=\"font-weight: bold\"> Trainable params: </span><span style=\"color: #00af00; text-decoration-color: #00af00\">109,386</span> (427.29 KB)\n",
       "</pre>\n"
      ],
      "text/plain": [
       "\u001b[1m Trainable params: \u001b[0m\u001b[38;5;34m109,386\u001b[0m (427.29 KB)\n"
      ]
     },
     "metadata": {},
     "output_type": "display_data"
    },
    {
     "data": {
      "text/html": [
       "<pre style=\"white-space:pre;overflow-x:auto;line-height:normal;font-family:Menlo,'DejaVu Sans Mono',consolas,'Courier New',monospace\"><span style=\"font-weight: bold\"> Non-trainable params: </span><span style=\"color: #00af00; text-decoration-color: #00af00\">0</span> (0.00 B)\n",
       "</pre>\n"
      ],
      "text/plain": [
       "\u001b[1m Non-trainable params: \u001b[0m\u001b[38;5;34m0\u001b[0m (0.00 B)\n"
      ]
     },
     "metadata": {},
     "output_type": "display_data"
    },
    {
     "name": "stdout",
     "output_type": "stream",
     "text": [
      "\n",
      "Total parameters in Dense model: 109,386\n",
      "\n",
      "❗ Problems with Dense approach:\n",
      "  • Loses spatial information (pixel relationships)\n",
      "  • Treats each pixel independently\n",
      "  • Lots of parameters (prone to overfitting)\n",
      "  • Not translation invariant\n",
      "  • Computationally expensive\n",
      "\n",
      "Training Dense network (this may take a moment...)\n",
      "Epoch 1/5\n",
      "\u001b[1m469/469\u001b[0m \u001b[32m━━━━━━━━━━━━━━━━━━━━\u001b[0m\u001b[37m\u001b[0m \u001b[1m1s\u001b[0m 993us/step - accuracy: 0.9083 - loss: 0.3302 - val_accuracy: 0.9532 - val_loss: 0.1557\n",
      "Epoch 2/5\n",
      "\u001b[1m469/469\u001b[0m \u001b[32m━━━━━━━━━━━━━━━━━━━━\u001b[0m\u001b[37m\u001b[0m \u001b[1m0s\u001b[0m 867us/step - accuracy: 0.9607 - loss: 0.1333 - val_accuracy: 0.9652 - val_loss: 0.1087\n",
      "Epoch 3/5\n",
      "\u001b[1m469/469\u001b[0m \u001b[32m━━━━━━━━━━━━━━━━━━━━\u001b[0m\u001b[37m\u001b[0m \u001b[1m0s\u001b[0m 846us/step - accuracy: 0.9729 - loss: 0.0929 - val_accuracy: 0.9710 - val_loss: 0.0911\n",
      "Epoch 4/5\n",
      "\u001b[1m469/469\u001b[0m \u001b[32m━━━━━━━━━━━━━━━━━━━━\u001b[0m\u001b[37m\u001b[0m \u001b[1m0s\u001b[0m 885us/step - accuracy: 0.9791 - loss: 0.0704 - val_accuracy: 0.9725 - val_loss: 0.0861\n",
      "Epoch 5/5\n",
      "\u001b[1m469/469\u001b[0m \u001b[32m━━━━━━━━━━━━━━━━━━━━\u001b[0m\u001b[37m\u001b[0m \u001b[1m0s\u001b[0m 852us/step - accuracy: 0.9836 - loss: 0.0549 - val_accuracy: 0.9744 - val_loss: 0.0839\n",
      "Dense network accuracy: 0.9744\n"
     ]
    }
   ],
   "source": [
    "print(\"The Dense Network Approach:\")\n",
    "print(\"=\" * 40)\n",
    "\n",
    "# For Dense layers, we need to flatten images\n",
    "X_train_flat = X_train.reshape(X_train.shape[0], -1)\n",
    "X_test_flat = X_test.reshape(X_test.shape[0], -1)\n",
    "\n",
    "print(f\"Original image shape: {X_train.shape[1:]}\")\n",
    "print(f\"Flattened shape: {X_train_flat.shape[1:]}\")\n",
    "print(f\"Total pixels per image: {X_train_flat.shape[1]}\")\n",
    "\n",
    "# Build a Dense network\n",
    "dense_model = keras.Sequential([\n",
    "    layers.Dense(128, activation='relu', input_shape=(784,)),\n",
    "    layers.Dense(64, activation='relu'),\n",
    "    layers.Dense(10, activation='softmax')\n",
    "], name='Dense_Network')\n",
    "\n",
    "dense_model.compile(\n",
    "    optimizer='adam',\n",
    "    loss='sparse_categorical_crossentropy',\n",
    "    metrics=['accuracy']\n",
    ")\n",
    "\n",
    "print(f\"\\nDense Model Summary:\")\n",
    "dense_model.summary()\n",
    "\n",
    "print(f\"\\nTotal parameters in Dense model: {dense_model.count_params():,}\")\n",
    "print(\"\\n❗ Problems with Dense approach:\")\n",
    "print(\"  • Loses spatial information (pixel relationships)\")\n",
    "print(\"  • Treats each pixel independently\")\n",
    "print(\"  • Lots of parameters (prone to overfitting)\")\n",
    "print(\"  • Not translation invariant\")\n",
    "print(\"  • Computationally expensive\")\n",
    "\n",
    "# Train briefly\n",
    "print(\"\\nTraining Dense network (this may take a moment...)\")\n",
    "dense_history = dense_model.fit(\n",
    "    X_train_flat, y_train,\n",
    "    validation_data=(X_test_flat, y_test),\n",
    "    epochs=5,\n",
    "    batch_size=128,\n",
    "    verbose=1\n",
    ")\n",
    "\n",
    "dense_accuracy = dense_history.history['val_accuracy'][-1]\n",
    "print(f\"Dense network accuracy: {dense_accuracy:.4f}\")"
   ]
  },
  {
   "cell_type": "markdown",
   "metadata": {},
   "source": "## Step 4: Visualizing CNN Features\n\nNow let's visualize what the CNN actually learns to detect:"
  },
  {
   "cell_type": "code",
   "execution_count": null,
   "metadata": {},
   "outputs": [],
   "source": "## Step 3: Understanding CNN Layer Architecture\n\nLet's see what CNN actually learns and how layers work together:"
  },
  {
   "cell_type": "markdown",
   "source": "## Step 5: Experimenting with Different CNN Architectures\n\nLet's try different CNN designs and see how architecture choices affect performance:",
   "metadata": {}
  },
  {
   "cell_type": "code",
   "source": "print(\"Experimenting with Different CNN Architectures:\")\nprint(\"=\" * 60)\n\n# Architecture 1: Shallow CNN (fewer layers)\nshallow_cnn = keras.Sequential([\n    layers.Conv2D(16, (3, 3), activation='relu', input_shape=(28, 28, 1)),\n    layers.MaxPooling2D((2, 2)),\n    layers.Flatten(),\n    layers.Dense(10, activation='softmax')\n], name='Shallow_CNN')\n\n# Architecture 2: Deep CNN (more layers)\ndeep_cnn = keras.Sequential([\n    layers.Conv2D(32, (3, 3), activation='relu', input_shape=(28, 28, 1)),\n    layers.Conv2D(32, (3, 3), activation='relu'),\n    layers.MaxPooling2D((2, 2)),\n    layers.Conv2D(64, (3, 3), activation='relu'),\n    layers.Conv2D(64, (3, 3), activation='relu'),\n    layers.MaxPooling2D((2, 2)),\n    layers.Flatten(),\n    layers.Dense(128, activation='relu'),\n    layers.Dropout(0.5),\n    layers.Dense(10, activation='softmax')\n], name='Deep_CNN')\n\n# Architecture 3: CNN with larger filters\nlarge_filter_cnn = keras.Sequential([\n    layers.Conv2D(32, (5, 5), activation='relu', input_shape=(28, 28, 1)),\n    layers.MaxPooling2D((2, 2)),\n    layers.Conv2D(64, (5, 5), activation='relu'),\n    layers.MaxPooling2D((2, 2)),\n    layers.Flatten(),\n    layers.Dense(64, activation='relu'),\n    layers.Dense(10, activation='softmax')\n], name='Large_Filter_CNN')\n\n# Compare architectures\narchitectures = {\n    'Shallow CNN': shallow_cnn,\n    'Deep CNN': deep_cnn,\n    'Large Filter CNN': large_filter_cnn,\n    'Original CNN': cnn_model\n}\n\nprint(\"\\n📊 Architecture Comparison:\")\nprint(\"-\" * 40)\nfor name, model in architectures.items():\n    # Build model to get parameter count\n    if name != 'Original CNN':  # Original is already built\n        model.build(input_shape=(None, 28, 28, 1))\n    \n    total_params = model.count_params()\n    conv_layers = sum(1 for layer in model.layers if 'conv' in layer.__class__.__name__.lower())\n    \n    print(f\"\\n{name}:\")\n    print(f\"  • Total parameters: {total_params:,}\")\n    print(f\"  • Conv layers: {conv_layers}\")\n    print(f\"  • Architecture depth: {len(model.layers)} layers\")\n\n# Train and compare the shallow model\nprint(\"\\n🔬 Training Shallow CNN for comparison...\")\nshallow_cnn.compile(\n    optimizer='adam',\n    loss='sparse_categorical_crossentropy',\n    metrics=['accuracy']\n)\n\nshallow_history = shallow_cnn.fit(\n    X_train_cnn, y_train,\n    validation_data=(X_test_cnn, y_test),\n    epochs=3,\n    batch_size=128,\n    verbose=0\n)\n\nshallow_accuracy = max(shallow_history.history['val_accuracy'])\n\nprint(f\"\\nPerformance Comparison:\")\nprint(f\"  • Dense Network: {dense_accuracy:.4f}\")\nprint(f\"  • Shallow CNN: {shallow_accuracy:.4f}\")\nprint(f\"  • Original CNN: {cnn_accuracy:.4f}\")\n\nprint(\"\\n💡 Key Insights:\")\nprint(\"  • Even shallow CNNs outperform dense networks\")\nprint(\"  • Deeper networks can learn more complex features\")\nprint(\"  • Filter size affects receptive field\")\nprint(\"  • More parameters ≠ always better (risk of overfitting)\")\n\n# Visualize the architectures side by side\nplt.figure(figsize=(15, 8))\n\n# Plot training curves comparison\nplt.subplot(2, 2, 1)\nplt.plot(dense_history.history['val_accuracy'], label='Dense Network', linewidth=2)\nplt.plot(shallow_history.history['val_accuracy'], label='Shallow CNN', linewidth=2)\nplt.plot(cnn_history.history['val_accuracy'][:3], label='Original CNN', linewidth=2)\nplt.title('Validation Accuracy Comparison')\nplt.xlabel('Epoch')\nplt.ylabel('Accuracy')\nplt.legend()\nplt.grid(True, alpha=0.3)\n\n# Plot parameter counts\nplt.subplot(2, 2, 2)\nmodel_names = ['Dense', 'Shallow CNN', 'Original CNN']\nparam_counts = [dense_model.count_params(), shallow_cnn.count_params(), cnn_model.count_params()]\ncolors = ['red', 'yellow', 'green']\nbars = plt.bar(model_names, param_counts, color=colors, alpha=0.7)\nplt.title('Parameter Count Comparison')\nplt.ylabel('Number of Parameters')\nfor bar, count in zip(bars, param_counts):\n    plt.text(bar.get_x() + bar.get_width()/2, bar.get_height() + 1000,\n             f'{count:,}', ha='center', fontweight='bold')\nplt.grid(axis='y', alpha=0.3)\n\n# Show sample predictions\nplt.subplot(2, 2, 3)\nsample_idx = 10\nsample_img = X_test_cnn[sample_idx:sample_idx+1]\nplt.imshow(sample_img.squeeze(), cmap='gray')\nplt.title(f'Test Image (True Label: {y_test[sample_idx]})')\nplt.axis('off')\n\n# Prediction comparison\nplt.subplot(2, 2, 4)\ndense_pred = dense_model.predict(X_test_flat[sample_idx:sample_idx+1], verbose=0)[0]\nshallow_pred = shallow_cnn.predict(sample_img, verbose=0)[0]\ncnn_pred = cnn_model.predict(sample_img, verbose=0)[0]\n\nx = np.arange(10)\nwidth = 0.25\nplt.bar(x - width, dense_pred, width, label='Dense', alpha=0.7)\nplt.bar(x, shallow_pred, width, label='Shallow CNN', alpha=0.7)\nplt.bar(x + width, cnn_pred, width, label='Original CNN', alpha=0.7)\nplt.xlabel('Digit Class')\nplt.ylabel('Probability')\nplt.title('Prediction Comparison')\nplt.legend()\nplt.xticks(x)\n\nplt.tight_layout()\nplt.show()\n\nprint(\"\\n🎯 Conclusion: CNNs consistently outperform Dense networks on image data!\")",
   "metadata": {},
   "execution_count": null,
   "outputs": []
  },
  {
   "cell_type": "markdown",
   "metadata": {},
   "source": [
    "## Step 4: Visualizing CNN Features\\n\\nLet's see what the CNN actually learns to detect:\""
   ]
  },
  {
   "cell_type": "code",
   "execution_count": 30,
   "metadata": {},
   "outputs": [
    {
     "name": "stdout",
     "output_type": "stream",
     "text": [
      "Understanding CNN Layers:\n",
      "==================================================\n",
      "Layer-by-layer analysis:\n",
      "------------------------------\n",
      "Input: (28, 28, 1) → Raw 28x28 grayscale image\n",
      "conv1: (26, 26, 8) → 8 filters of (3, 3) detecting features\n",
      "pool1: (13, 13, 8) → Downsample by (2, 2), keep strongest signals\n",
      "conv2: (11, 11, 16) → 16 filters of (3, 3) detecting features\n",
      "pool2: (5, 5, 16) → Downsample by (2, 2), keep strongest signals\n",
      "flatten: (400,) → Convert 2D feature maps to 1D vector\n",
      "classifier: (10,) → Final classification into 10 classes\n",
      "\n",
      "🔍 Key Insights:\n",
      "  • Each Conv2D layer detects increasingly complex features\n",
      "  • MaxPooling reduces size while keeping important information\n",
      "  • Flatten converts spatial features to vector for classification\n",
      "  • Final Dense layer maps features to class probabilities\n"
     ]
    }
   ],
   "source": [
    "print(\"Understanding CNN Layers:\")\n",
    "print(\"=\" * 50)\n",
    "\n",
    "# Let's build a simple CNN and examine each layer\n",
    "simple_cnn = keras.Sequential([\n",
    "    layers.Conv2D(8, (3, 3), activation='relu', input_shape=(28, 28, 1), name='conv1'),\n",
    "    layers.MaxPooling2D((2, 2), name='pool1'),\n",
    "    layers.Conv2D(16, (3, 3), activation='relu', name='conv2'),\n",
    "    layers.MaxPooling2D((2, 2), name='pool2'),\n",
    "    layers.Flatten(name='flatten'),\n",
    "    layers.Dense(10, activation='softmax', name='classifier')\n",
    "])\n",
    "\n",
    "print(\"Layer-by-layer analysis:\")\n",
    "print(\"-\" * 30)\n",
    "\n",
    "# Trace through the network\n",
    "input_shape = (28, 28, 1)\n",
    "print(f\"Input: {input_shape} → Raw 28x28 grayscale image\")\n",
    "\n",
    "for i, layer in enumerate(simple_cnn.layers):\n",
    "    # Build the model up to this layer to see output shape\n",
    "    temp_model = keras.Sequential(simple_cnn.layers[:i+1])\n",
    "    temp_model.build(input_shape=(None,) + input_shape)\n",
    "    output_shape = temp_model.output_shape[1:]  # Remove batch dimension\n",
    "    \n",
    "    if 'conv' in layer.name:\n",
    "        filters = layer.filters\n",
    "        kernel_size = layer.kernel_size\n",
    "        print(f\"{layer.name}: {output_shape} → {filters} filters of {kernel_size} detecting features\")\n",
    "    elif 'pool' in layer.name:\n",
    "        pool_size = layer.pool_size\n",
    "        print(f\"{layer.name}: {output_shape} → Downsample by {pool_size}, keep strongest signals\")\n",
    "    elif 'flatten' in layer.name:\n",
    "        print(f\"{layer.name}: {output_shape} → Convert 2D feature maps to 1D vector\")\n",
    "    elif 'dense' in layer.name or 'classifier' in layer.name:\n",
    "        units = layer.units\n",
    "        print(f\"{layer.name}: {output_shape} → Final classification into {units} classes\")\n",
    "\n",
    "print(\"\\n🔍 Key Insights:\")\n",
    "print(\"  • Each Conv2D layer detects increasingly complex features\")\n",
    "print(\"  • MaxPooling reduces size while keeping important information\")\n",
    "print(\"  • Flatten converts spatial features to vector for classification\")\n",
    "print(\"  • Final Dense layer maps features to class probabilities\")"
   ]
  },
  {
   "cell_type": "code",
   "execution_count": null,
   "metadata": {},
   "outputs": [],
   "source": "## Step 2: The CNN Solution - Convolutional Layers\n\nNow let's build a CNN and see why it's so much better for image data:"
  },
  {
   "cell_type": "code",
   "execution_count": 32,
   "metadata": {},
   "outputs": [
    {
     "name": "stdout",
     "output_type": "stream",
     "text": [
      "The Dense Network Approach:\n",
      "========================================\n",
      "Original image shape: (28, 28)\n",
      "Flattened shape: (784,)\n",
      "Total pixels per image: 784\n",
      "\n",
      "Dense Model Summary:\n"
     ]
    },
    {
     "data": {
      "text/html": [
       "<pre style=\"white-space:pre;overflow-x:auto;line-height:normal;font-family:Menlo,'DejaVu Sans Mono',consolas,'Courier New',monospace\"><span style=\"font-weight: bold\">Model: \"Dense_Network\"</span>\n",
       "</pre>\n"
      ],
      "text/plain": [
       "\u001b[1mModel: \"Dense_Network\"\u001b[0m\n"
      ]
     },
     "metadata": {},
     "output_type": "display_data"
    },
    {
     "data": {
      "text/html": [
       "<pre style=\"white-space:pre;overflow-x:auto;line-height:normal;font-family:Menlo,'DejaVu Sans Mono',consolas,'Courier New',monospace\">┏━━━━━━━━━━━━━━━━━━━━━━━━━━━━━━━━━┳━━━━━━━━━━━━━━━━━━━━━━━━┳━━━━━━━━━━━━━━━┓\n",
       "┃<span style=\"font-weight: bold\"> Layer (type)                    </span>┃<span style=\"font-weight: bold\"> Output Shape           </span>┃<span style=\"font-weight: bold\">       Param # </span>┃\n",
       "┡━━━━━━━━━━━━━━━━━━━━━━━━━━━━━━━━━╇━━━━━━━━━━━━━━━━━━━━━━━━╇━━━━━━━━━━━━━━━┩\n",
       "│ dense_36 (<span style=\"color: #0087ff; text-decoration-color: #0087ff\">Dense</span>)                │ (<span style=\"color: #00d7ff; text-decoration-color: #00d7ff\">None</span>, <span style=\"color: #00af00; text-decoration-color: #00af00\">128</span>)            │       <span style=\"color: #00af00; text-decoration-color: #00af00\">100,480</span> │\n",
       "├─────────────────────────────────┼────────────────────────┼───────────────┤\n",
       "│ dense_37 (<span style=\"color: #0087ff; text-decoration-color: #0087ff\">Dense</span>)                │ (<span style=\"color: #00d7ff; text-decoration-color: #00d7ff\">None</span>, <span style=\"color: #00af00; text-decoration-color: #00af00\">64</span>)             │         <span style=\"color: #00af00; text-decoration-color: #00af00\">8,256</span> │\n",
       "├─────────────────────────────────┼────────────────────────┼───────────────┤\n",
       "│ dense_38 (<span style=\"color: #0087ff; text-decoration-color: #0087ff\">Dense</span>)                │ (<span style=\"color: #00d7ff; text-decoration-color: #00d7ff\">None</span>, <span style=\"color: #00af00; text-decoration-color: #00af00\">10</span>)             │           <span style=\"color: #00af00; text-decoration-color: #00af00\">650</span> │\n",
       "└─────────────────────────────────┴────────────────────────┴───────────────┘\n",
       "</pre>\n"
      ],
      "text/plain": [
       "┏━━━━━━━━━━━━━━━━━━━━━━━━━━━━━━━━━┳━━━━━━━━━━━━━━━━━━━━━━━━┳━━━━━━━━━━━━━━━┓\n",
       "┃\u001b[1m \u001b[0m\u001b[1mLayer (type)                   \u001b[0m\u001b[1m \u001b[0m┃\u001b[1m \u001b[0m\u001b[1mOutput Shape          \u001b[0m\u001b[1m \u001b[0m┃\u001b[1m \u001b[0m\u001b[1m      Param #\u001b[0m\u001b[1m \u001b[0m┃\n",
       "┡━━━━━━━━━━━━━━━━━━━━━━━━━━━━━━━━━╇━━━━━━━━━━━━━━━━━━━━━━━━╇━━━━━━━━━━━━━━━┩\n",
       "│ dense_36 (\u001b[38;5;33mDense\u001b[0m)                │ (\u001b[38;5;45mNone\u001b[0m, \u001b[38;5;34m128\u001b[0m)            │       \u001b[38;5;34m100,480\u001b[0m │\n",
       "├─────────────────────────────────┼────────────────────────┼───────────────┤\n",
       "│ dense_37 (\u001b[38;5;33mDense\u001b[0m)                │ (\u001b[38;5;45mNone\u001b[0m, \u001b[38;5;34m64\u001b[0m)             │         \u001b[38;5;34m8,256\u001b[0m │\n",
       "├─────────────────────────────────┼────────────────────────┼───────────────┤\n",
       "│ dense_38 (\u001b[38;5;33mDense\u001b[0m)                │ (\u001b[38;5;45mNone\u001b[0m, \u001b[38;5;34m10\u001b[0m)             │           \u001b[38;5;34m650\u001b[0m │\n",
       "└─────────────────────────────────┴────────────────────────┴───────────────┘\n"
      ]
     },
     "metadata": {},
     "output_type": "display_data"
    },
    {
     "data": {
      "text/html": [
       "<pre style=\"white-space:pre;overflow-x:auto;line-height:normal;font-family:Menlo,'DejaVu Sans Mono',consolas,'Courier New',monospace\"><span style=\"font-weight: bold\"> Total params: </span><span style=\"color: #00af00; text-decoration-color: #00af00\">109,386</span> (427.29 KB)\n",
       "</pre>\n"
      ],
      "text/plain": [
       "\u001b[1m Total params: \u001b[0m\u001b[38;5;34m109,386\u001b[0m (427.29 KB)\n"
      ]
     },
     "metadata": {},
     "output_type": "display_data"
    },
    {
     "data": {
      "text/html": [
       "<pre style=\"white-space:pre;overflow-x:auto;line-height:normal;font-family:Menlo,'DejaVu Sans Mono',consolas,'Courier New',monospace\"><span style=\"font-weight: bold\"> Trainable params: </span><span style=\"color: #00af00; text-decoration-color: #00af00\">109,386</span> (427.29 KB)\n",
       "</pre>\n"
      ],
      "text/plain": [
       "\u001b[1m Trainable params: \u001b[0m\u001b[38;5;34m109,386\u001b[0m (427.29 KB)\n"
      ]
     },
     "metadata": {},
     "output_type": "display_data"
    },
    {
     "data": {
      "text/html": [
       "<pre style=\"white-space:pre;overflow-x:auto;line-height:normal;font-family:Menlo,'DejaVu Sans Mono',consolas,'Courier New',monospace\"><span style=\"font-weight: bold\"> Non-trainable params: </span><span style=\"color: #00af00; text-decoration-color: #00af00\">0</span> (0.00 B)\n",
       "</pre>\n"
      ],
      "text/plain": [
       "\u001b[1m Non-trainable params: \u001b[0m\u001b[38;5;34m0\u001b[0m (0.00 B)\n"
      ]
     },
     "metadata": {},
     "output_type": "display_data"
    },
    {
     "name": "stdout",
     "output_type": "stream",
     "text": [
      "\n",
      "Total parameters in Dense model: 109,386\n",
      "\n",
      "❗ Problems with Dense approach:\n",
      "  • Loses spatial information (pixel relationships)\n",
      "  • Treats each pixel independently\n",
      "  • Lots of parameters (prone to overfitting)\n",
      "  • Not translation invariant\n",
      "  • Computationally expensive\n",
      "\n",
      "Training Dense network (this may take a moment...)\n",
      "Epoch 1/5\n",
      "\u001b[1m469/469\u001b[0m \u001b[32m━━━━━━━━━━━━━━━━━━━━\u001b[0m\u001b[37m\u001b[0m \u001b[1m1s\u001b[0m 1ms/step - accuracy: 0.9067 - loss: 0.3311 - val_accuracy: 0.9528 - val_loss: 0.1589\n",
      "Epoch 2/5\n",
      "\u001b[1m469/469\u001b[0m \u001b[32m━━━━━━━━━━━━━━━━━━━━\u001b[0m\u001b[37m\u001b[0m \u001b[1m1s\u001b[0m 1ms/step - accuracy: 0.9616 - loss: 0.1321 - val_accuracy: 0.9659 - val_loss: 0.1096\n",
      "Epoch 3/5\n",
      "\u001b[1m469/469\u001b[0m \u001b[32m━━━━━━━━━━━━━━━━━━━━\u001b[0m\u001b[37m\u001b[0m \u001b[1m0s\u001b[0m 963us/step - accuracy: 0.9736 - loss: 0.0904 - val_accuracy: 0.9728 - val_loss: 0.0882\n",
      "Epoch 4/5\n",
      "\u001b[1m469/469\u001b[0m \u001b[32m━━━━━━━━━━━━━━━━━━━━\u001b[0m\u001b[37m\u001b[0m \u001b[1m0s\u001b[0m 993us/step - accuracy: 0.9802 - loss: 0.0677 - val_accuracy: 0.9746 - val_loss: 0.0798\n",
      "Epoch 5/5\n",
      "\u001b[1m469/469\u001b[0m \u001b[32m━━━━━━━━━━━━━━━━━━━━\u001b[0m\u001b[37m\u001b[0m \u001b[1m0s\u001b[0m 994us/step - accuracy: 0.9847 - loss: 0.0523 - val_accuracy: 0.9750 - val_loss: 0.0795\n",
      "Dense network accuracy: 0.9750\n"
     ]
    }
   ],
   "source": [
    "print(\"The Dense Network Approach:\")\n",
    "print(\"=\" * 40)\n",
    "\n",
    "# For Dense layers, we need to flatten images\n",
    "X_train_flat = X_train.reshape(X_train.shape[0], -1)\n",
    "X_test_flat = X_test.reshape(X_test.shape[0], -1)\n",
    "\n",
    "print(f\"Original image shape: {X_train.shape[1:]}\")\n",
    "print(f\"Flattened shape: {X_train_flat.shape[1:]}\")\n",
    "print(f\"Total pixels per image: {X_train_flat.shape[1]}\")\n",
    "\n",
    "# Build a Dense network\n",
    "dense_model = keras.Sequential([\n",
    "    layers.Dense(128, activation='relu', input_shape=(784,)),\n",
    "    layers.Dense(64, activation='relu'),\n",
    "    layers.Dense(10, activation='softmax')\n",
    "], name='Dense_Network')\n",
    "\n",
    "dense_model.compile(\n",
    "    optimizer='adam',\n",
    "    loss='sparse_categorical_crossentropy',\n",
    "    metrics=['accuracy']\n",
    ")\n",
    "\n",
    "print(f\"\\nDense Model Summary:\")\n",
    "dense_model.summary()\n",
    "\n",
    "print(f\"\\nTotal parameters in Dense model: {dense_model.count_params():,}\")\n",
    "print(\"\\n❗ Problems with Dense approach:\")\n",
    "print(\"  • Loses spatial information (pixel relationships)\")\n",
    "print(\"  • Treats each pixel independently\")\n",
    "print(\"  • Lots of parameters (prone to overfitting)\")\n",
    "print(\"  • Not translation invariant\")\n",
    "print(\"  • Computationally expensive\")\n",
    "\n",
    "# Train briefly\n",
    "print(\"\\nTraining Dense network (this may take a moment...)\")\n",
    "dense_history = dense_model.fit(\n",
    "    X_train_flat, y_train,\n",
    "    validation_data=(X_test_flat, y_test),\n",
    "    epochs=5,\n",
    "    batch_size=128,\n",
    "    verbose=1\n",
    ")\n",
    "\n",
    "dense_accuracy = dense_history.history['val_accuracy'][-1]\n",
    "print(f\"Dense network accuracy: {dense_accuracy:.4f}\")"
   ]
  }
 ],
 "metadata": {
  "kernelspec": {
   "display_name": "Python (myenv)",
   "language": "python",
   "name": "myenv"
  },
  "language_info": {
   "codemirror_mode": {
    "name": "ipython",
    "version": 3
   },
   "file_extension": ".py",
   "mimetype": "text/x-python",
   "name": "python",
   "nbconvert_exporter": "python",
   "pygments_lexer": "ipython3",
   "version": "3.13.3"
  }
 },
 "nbformat": 4,
 "nbformat_minor": 4
}